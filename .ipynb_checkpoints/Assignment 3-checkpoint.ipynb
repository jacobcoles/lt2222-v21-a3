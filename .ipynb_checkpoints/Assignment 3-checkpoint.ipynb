{
 "cells": [
  {
   "cell_type": "markdown",
   "metadata": {},
   "source": [
    "# LT2222 V21 Assignment 3 -- Predict Swedish Vowels\n",
    "\n",
    "## Introduction\n",
    "\n",
    "The written Swedish language has the following inventory of lowercase vowels characters: a, e, i, o, u, y, å¸ ä, ö, é.  The Evil Vowel Fairy is threatening to magically steal the vowels from Swedish texts, replacing them with blank symbols.  Before the Fairy does that, your mission is to create a system that automatically puts the vowels back, rendering the evil plan fruitless.  The most important text that the Evil Vowel Fairy is targeting are a group of newspaper articles written in the 19th century currently hosted by Språkbanken, because the Evil Vowel Fairy has some deranged plan involving the 19th century.\n",
    "\n",
    "(These newspaper articles have a bunch of other, now-archaic or foreign vowels that the Fairy is not interested in and you will ignore.)\n",
    "\n",
    "There is a secret agent who has helped by writing some scripts to train a vowel prediction model, but that agent has written the scripts a little cryptically to make it hard for the Fairy, who doesn't really understand computers but it never hurts to make sure.\n",
    "\n",
    "Every part of this assignment that involves Python scripting needs to be done on the bash command line on mltgpu or eduserv.  Include your name in README.md.\n",
    "\n",
    "This assignment is due Monday, March 29, 2021 at 9:00.  There are 31 points on this assignment, plus opportunity for 22 bonus points.\n",
    "\n",
    "## Preparation\n",
    "\n",
    "Fork and clone the GitHub repository: https://github.com/asayeed/lt2222-v21-a3 (Links to an external site.)\n",
    "\n",
    "There will be three files, train.py, model.py, and README.md.  You will write your responses to whatever needs text responses plus other comments and instructions in README.md.\n",
    "\n",
    "The texts are available at\n",
    "\n",
    "* /home/xsayas@GU.GU.SE/scratch/lt2222-v21-resources/svtrain.lower.txt -- training\n",
    "* /home/xsayas@GU.GU.SE/scratch/lt2222-v21-resources/svtest.lower.txt -- test/evaluation"
   ]
  },
  {
   "cell_type": "code",
   "execution_count": null,
   "metadata": {},
   "outputs": [],
   "source": []
  },
  {
   "cell_type": "markdown",
   "metadata": {},
   "source": [
    "## Part 1: Figure out train.py (8 points)\n",
    "\n",
    "train.py is already complete, and you will not modify it. Instead, in README.md, you will explain what the functions a, b, and g do, as well as the meaning of the command-line arguments that are being processed via the argparse module.\n",
    "\n",
    "You will then run train.py on the training file.  train.py will save a model."
   ]
  },
  {
   "cell_type": "code",
   "execution_count": null,
   "metadata": {},
   "outputs": [],
   "source": []
  },
  {
   "cell_type": "markdown",
   "metadata": {},
   "source": [
    "\n",
    "## Part 2: Write eval.py (15 points)\n",
    "\n",
    "Write eval.py and add it to the repository.  What eval.py will do from the command line:\n",
    "\n",
    "* Load a model produced by train.py. (Take a look at model.py.)\n",
    "* Load the test data.\n",
    "* Create evaluation instances compatible with the training instances.  (A simplifying assumption for the purposes of the assignment: assuming that the neighbouring vowels are known as though the Fairy hadn't stolen them.)\n",
    "* Use the model to predict instances.\n",
    "* Write the text with the predicted (as opposed to the real) vowels back into an output file.\n",
    "* Print the accuracy of the model to the terminal."
   ]
  },
  {
   "cell_type": "code",
   "execution_count": 1,
   "metadata": {},
   "outputs": [],
   "source": [
    "import os\n",
    "\n",
    "os.environ[\"CUDA_VISIBLE_DEVICES\"]=\"\"\n",
    "os.environ[\"USE_CPU\"]=\"1\"\n",
    "\n",
    "import sys\n",
    "import argparse\n",
    "import numpy as np\n",
    "import pandas as pd\n",
    "from model import train\n",
    "import torch\n",
    "\n",
    "vowels = sorted(['y', 'é', 'ö', 'a', 'i', 'å', 'u', 'ä', 'e', 'o'])\n",
    "\n",
    "#takes a file f, and generates a list  mm, where each item in mm is a character from the text (with two additional start <s> and end <e> end characters/tags). It returns a tuple containing mm, and a listified set of mm (list of all the possible unique items in mm). \n",
    "def a(f):\n",
    "    mm = []\n",
    "    with open(f, \"r\") as q:\n",
    "        for l in q:\n",
    "            mm += [c for c in l]\n",
    "\n",
    "    mm = [\"<s>\", \"<s>\"] + mm + [\"<e>\", \"<e>\"]\n",
    "    return mm, list(set(mm))\n",
    "\n",
    "#Takes a character x and list of possible characters p\n",
    "#Generates list of zeroes of length of p, for one-hot-encoding\n",
    "#\n",
    "def g(x, p):\n",
    "    z = np.zeros(len(p))\n",
    "    z[p.index(x)] = 1\n",
    "    return z\n",
    "\n",
    "#Run on the output of function a()\n",
    "#u is a list of all characters in the text\n",
    "#It goes through every vowel character (only)\n",
    "#and appends that vowel to list gt (as an index with reference to vowels)\n",
    "#It goes through the contextual characters/tags either side of each vowel\n",
    "#and uses function g() to create one-hot-encodes of these contextual words which it saves in the list gr\n",
    "def b(u, p):\n",
    "    gt = []\n",
    "    gr = []\n",
    "    for v in range(len(u) - 4): \n",
    "        if u[v+2] not in vowels:\n",
    "            continue\n",
    "        \n",
    "        h2 = vowels.index(u[v+2])\n",
    "        gt.append(h2)\n",
    "        r = np.concatenate([g(x, p) for x in [u[v], u[v+1], u[v+3], u[v+4]]])\n",
    "        gr.append(r)\n",
    "\n",
    "    return np.array(gr), np.array(gt) #returns numpy arrays gr, which is a list one-hot-encodes of the context of each vowel, and gt which is a list of the vowels themselves represented as an index on vowels. \n",
    "        "
   ]
  },
  {
   "cell_type": "code",
   "execution_count": 2,
   "metadata": {},
   "outputs": [
    {
     "ename": "NameError",
     "evalue": "name 'm' is not defined",
     "output_type": "error",
     "traceback": [
      "\u001b[0;31m--------------------------------------------------------------------------\u001b[0m",
      "\u001b[0;31mNameError\u001b[0m                                Traceback (most recent call last)",
      "\u001b[0;32m<ipython-input-2-643c4b806410>\u001b[0m in \u001b[0;36m<module>\u001b[0;34m\u001b[0m\n\u001b[1;32m      1\u001b[0m \u001b[0mpath\u001b[0m \u001b[0;34m=\u001b[0m \u001b[0;34m'./outfile'\u001b[0m\u001b[0;34m\u001b[0m\u001b[0;34m\u001b[0m\u001b[0m\n\u001b[0;32m----> 2\u001b[0;31m \u001b[0mmodel\u001b[0m \u001b[0;34m=\u001b[0m \u001b[0mtorch\u001b[0m\u001b[0;34m.\u001b[0m\u001b[0mload\u001b[0m\u001b[0;34m(\u001b[0m\u001b[0mm\u001b[0m\u001b[0;34m)\u001b[0m\u001b[0;34m\u001b[0m\u001b[0;34m\u001b[0m\u001b[0m\n\u001b[0m\u001b[1;32m      3\u001b[0m \u001b[0mmodel\u001b[0m\u001b[0;34m.\u001b[0m\u001b[0meval\u001b[0m\u001b[0;34m(\u001b[0m\u001b[0;34m)\u001b[0m\u001b[0;34m\u001b[0m\u001b[0;34m\u001b[0m\u001b[0m\n",
      "\u001b[0;31mNameError\u001b[0m: name 'm' is not defined"
     ]
    }
   ],
   "source": [
    "path = './outfile'\n",
    "model = torch.load(path)\n",
    "model.eval()"
   ]
  },
  {
   "cell_type": "markdown",
   "metadata": {},
   "source": [
    "## Part 3: Analysis (8 points)\n",
    "                                                                      \n",
    "Describe what you do in README.md.  Train and evaluate the following models:\n",
    "\n",
    "* Five different variations of the --k option, holding the --r option at its default.\n",
    "* Five different variations of the --r option, holding the --k option at its default.\n",
    "\n",
    "Include the best model and output text in your repository with its parameters.  Describe any patterns you see, if there are any.  Look at the output texts and make qualitative comments on the performances of the model.\n",
    "\n",
    "It is very likely that in this very simple model, for this amount of data, nothing will work very well.  Nevertheless, do your best to draw whatever tentative conclusions you can.\n"
   ]
  },
  {
   "cell_type": "code",
   "execution_count": null,
   "metadata": {},
   "outputs": [],
   "source": []
  },
  {
   "cell_type": "markdown",
   "metadata": {},
   "source": [
    "## Bonus Part A: Perplexity (4 points)\n",
    "                                                                      \n",
    "Add the option in the eval.py script to compute the perplexity of the model.  Document in README.md and include perplexity values for the experiments in part 3.\n"
   ]
  },
  {
   "cell_type": "code",
   "execution_count": null,
   "metadata": {},
   "outputs": [],
   "source": []
  },
  {
   "cell_type": "markdown",
   "metadata": {},
   "source": [
    "## Bonus Part B: Sequence (15 points)\n",
    "                                                                      \n",
    "Include new versions of train.py, model.py, and eval.py that do not include the assumption that neighbouring vowels are known, but rather works in sequence so that the model-predicted previous vowels are known, but future vowels are not. Systematically evaluate accuracy and describe in README.py\n"
   ]
  },
  {
   "cell_type": "code",
   "execution_count": null,
   "metadata": {},
   "outputs": [],
   "source": []
  },
  {
   "cell_type": "markdown",
   "metadata": {},
   "source": [
    "## Bonus Part C: Dropout (3 points)\n",
    "                                                                      \n",
    "Make a new version of model.py (and corresponding train.py and eval.py as necessary) that includes dropout in the model.  Systematically evaluate accuracy and describe in README.py."
   ]
  },
  {
   "cell_type": "code",
   "execution_count": null,
   "metadata": {},
   "outputs": [],
   "source": []
  }
 ],
 "metadata": {
  "kernelspec": {
   "display_name": "Python 3",
   "language": "python",
   "name": "python3"
  },
  "language_info": {
   "codemirror_mode": {
    "name": "ipython",
    "version": 3
   },
   "file_extension": ".py",
   "mimetype": "text/x-python",
   "name": "python",
   "nbconvert_exporter": "python",
   "pygments_lexer": "ipython3",
   "version": "3.7.4"
  }
 },
 "nbformat": 4,
 "nbformat_minor": 2
}
